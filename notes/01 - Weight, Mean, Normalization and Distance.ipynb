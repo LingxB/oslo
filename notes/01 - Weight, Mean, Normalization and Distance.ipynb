{
 "cells": [
  {
   "cell_type": "markdown",
   "metadata": {},
   "source": [
    "# Weight, Mean, Normalization and Distance\n",
    "\n",
    "Contents:\n",
    "\n",
    "1. How to compute weights?\n",
    "    - What about nagative values in input? e.g. `[0.6, 100.0, 12, -2.0, 3456.0]`\n",
    "2. Arithmetic mean, Harmonic mean, Geometric mean\n",
    "3. Normalization\n",
    "    - Normalize weights\n",
    "    - Min Max normalization\n",
    "    - Standarlization\n",
    "    - Normalize to be sum of x\n",
    "4. Distances\n",
    "\n",
    "\n",
    "\n",
    "\n",
    "\n",
    "\n"
   ]
  },
  {
   "cell_type": "code",
   "execution_count": 1,
   "metadata": {},
   "outputs": [],
   "source": [
    "import numpy as np"
   ]
  },
  {
   "cell_type": "markdown",
   "metadata": {},
   "source": [
    "# Weights\n",
    "\n",
    "Weight is a positive scalar value, (i.e. a single real number). The word *scalar* is used is to emphasize that it will be used to multiply a *vector* (to produce a new vector). \n",
    "\n",
    "Often a series of weights $w_i$ (with $i=1 \\ldots n$) is *normalized*, that is, for all $i$, $0 \\leq w_i \\leq 1$ and $\\sum w_i = 1$.\n",
    "\n",
    "\n",
    "## Applying Weights\n",
    "\n",
    "### Weighted Sum \n",
    "\n",
    "$\\sum w_i x_i$\n",
    "\n",
    "### Weighted Average\n",
    "\n",
    "$\\overline{x} = \\frac{\\sum w_i x_i}{\\sum w_i}$\n",
    "\n",
    "\n",
    "## Normalizing weights\n",
    "\n",
    "$w_i = \\frac{w_i}{\\sum_i^n w_i}$\n",
    "\n",
    "Q: What if $w$ has nagative? e.g. $w = [0.6, 100, 12, -2, 3456]$"
   ]
  },
  {
   "cell_type": "code",
   "execution_count": 48,
   "metadata": {},
   "outputs": [],
   "source": [
    "def normalize(w: np.ndarray):\n",
    "    \"\"\"Normalize w to be 0 <= w <= 1 and sum(w) = 1.\"\"\"\n",
    "    assert w.ndim == 1\n",
    "    assert\n",
    "    w = w - w.min() + 1 # Remove negative before ?\n",
    "    return w / w.sum()"
   ]
  },
  {
   "cell_type": "code",
   "execution_count": 49,
   "metadata": {},
   "outputs": [
    {
     "data": {
      "text/plain": [
       "array([  0.6, 100. ,  12. ,  -2. ,  34. ])"
      ]
     },
     "execution_count": 49,
     "metadata": {},
     "output_type": "execute_result"
    }
   ],
   "source": [
    "x = np.array([0.6, 100, 12, -2, 34])\n",
    "x"
   ]
  },
  {
   "cell_type": "code",
   "execution_count": 50,
   "metadata": {},
   "outputs": [
    {
     "data": {
      "text/plain": [
       "array([0.02255639, 0.64536341, 0.09398496, 0.00626566, 0.23182957])"
      ]
     },
     "execution_count": 50,
     "metadata": {},
     "output_type": "execute_result"
    }
   ],
   "source": [
    "normalize(x)"
   ]
  },
  {
   "cell_type": "code",
   "execution_count": 51,
   "metadata": {},
   "outputs": [
    {
     "data": {
      "text/plain": [
       "1.0"
      ]
     },
     "execution_count": 51,
     "metadata": {},
     "output_type": "execute_result"
    }
   ],
   "source": [
    "normalize(x).sum()"
   ]
  },
  {
   "cell_type": "code",
   "execution_count": 55,
   "metadata": {},
   "outputs": [
    {
     "data": {
      "text/plain": [
       "array([0.2, 0.2, 0.2, 0.2, 0.2])"
      ]
     },
     "execution_count": 55,
     "metadata": {},
     "output_type": "execute_result"
    }
   ],
   "source": [
    "x = np.array([2, 2, 2, 2, 2])\n",
    "normalize(x)"
   ]
  },
  {
   "cell_type": "code",
   "execution_count": 53,
   "metadata": {},
   "outputs": [
    {
     "data": {
      "text/plain": [
       "array([0.2 , 0.28, 0.36, 0.08, 0.08])"
      ]
     },
     "execution_count": 53,
     "metadata": {},
     "output_type": "execute_result"
    }
   ],
   "source": [
    "x = np.array([2, 3, 4, 0.5, 0.5])\n",
    "normalize(x)"
   ]
  },
  {
   "cell_type": "code",
   "execution_count": 54,
   "metadata": {},
   "outputs": [
    {
     "data": {
      "text/plain": [
       "array([0.2 , 0.3 , 0.4 , 0.05, 0.05])"
      ]
     },
     "execution_count": 54,
     "metadata": {},
     "output_type": "execute_result"
    }
   ],
   "source": [
    "x / x.sum()"
   ]
  },
  {
   "cell_type": "markdown",
   "metadata": {},
   "source": [
    "**So the conclusion is**:\n",
    "\n",
    "- $\\sum w_i$ can not be 0, e.g. when $w = [-1, 1]$, \n",
    "- negative values are not accepted as weights"
   ]
  },
  {
   "cell_type": "markdown",
   "metadata": {},
   "source": [
    "# Mean\n",
    "\n",
    "\n",
    "## Arithmetic Mean\n",
    "\n",
    "$\\overline{x} = \\frac{\\sum_i^n x_i}{n}$\n",
    "\n",
    "## Harmonic mean\n",
    "\n",
    "$H = \\frac{n}{\\frac{1}{x_1} + \\frac{1}{x_2} + ... + \\frac{1}{x_n}}= \\frac{n}{\\sum_i^n \\frac{1}{x_i}}$\n",
    "\n",
    "Q: When to use harmonic mean?\n",
    "\n",
    "In short, harmonic mean is used when you'd like to mix some numbers computed on differnt criteria. In ML, *F1* score is the harmonic mean of *precision* and *recall*. As they are computed differently, to mix them as one single value to reflect the performance of a classifier, you want the *F1* score to be high when both of them are high.\n",
    "\n",
    "Check this [post](https://stackoverflow.com/questions/26355942/why-is-the-f-measure-a-harmonic-mean-and-not-an-arithmetic-mean-of-the-precision) for more details.\n"
   ]
  },
  {
   "cell_type": "code",
   "execution_count": 63,
   "metadata": {},
   "outputs": [],
   "source": [
    "precision = 0.9\n",
    "recall = 0.1"
   ]
  },
  {
   "cell_type": "code",
   "execution_count": 64,
   "metadata": {},
   "outputs": [
    {
     "data": {
      "text/plain": [
       "0.5"
      ]
     },
     "execution_count": 64,
     "metadata": {},
     "output_type": "execute_result"
    }
   ],
   "source": [
    "# arithmetic mean\n",
    "(precision + recall) / 2"
   ]
  },
  {
   "cell_type": "code",
   "execution_count": 65,
   "metadata": {},
   "outputs": [
    {
     "data": {
      "text/plain": [
       "0.18"
      ]
     },
     "execution_count": 65,
     "metadata": {},
     "output_type": "execute_result"
    }
   ],
   "source": [
    "# harmonic mean\n",
    "2 / (1/precision + 1/recall)"
   ]
  },
  {
   "cell_type": "markdown",
   "metadata": {},
   "source": [
    "## Geometric mean\n",
    "\n",
    "$G = (\\prod_i^n x_i)^{-n} = ^n\\sqrt{x_1 x_2 ... x_n}$\n",
    "\n",
    "Q: When to use geometric mean?\n",
    "\n",
    "When mixing numbers which have big difference in terms of scale and you don't want to loose information on smaller numbers. "
   ]
  },
  {
   "cell_type": "code",
   "execution_count": 101,
   "metadata": {},
   "outputs": [],
   "source": [
    "g1 = np.array([10, 200, 2430, 3350, 10000]).astype('float32')\n",
    "g2 = np.array([1, 20, 243, 335, 10000000]).astype('float32')"
   ]
  },
  {
   "cell_type": "code",
   "execution_count": 102,
   "metadata": {},
   "outputs": [
    {
     "data": {
      "text/plain": [
       "3198.0"
      ]
     },
     "execution_count": 102,
     "metadata": {},
     "output_type": "execute_result"
    }
   ],
   "source": [
    "g1.mean()"
   ]
  },
  {
   "cell_type": "code",
   "execution_count": 103,
   "metadata": {},
   "outputs": [
    {
     "data": {
      "text/plain": [
       "2000119.8"
      ]
     },
     "execution_count": 103,
     "metadata": {},
     "output_type": "execute_result"
    }
   ],
   "source": [
    "g2.mean()"
   ]
  },
  {
   "cell_type": "code",
   "execution_count": 104,
   "metadata": {},
   "outputs": [
    {
     "data": {
      "text/plain": [
       "695.5625857987039"
      ]
     },
     "execution_count": 104,
     "metadata": {},
     "output_type": "execute_result"
    }
   ],
   "source": [
    "g1.prod()**(1/5)"
   ]
  },
  {
   "cell_type": "code",
   "execution_count": 105,
   "metadata": {},
   "outputs": [
    {
     "data": {
      "text/plain": [
       "438.87032657778997"
      ]
     },
     "execution_count": 105,
     "metadata": {},
     "output_type": "execute_result"
    }
   ],
   "source": [
    "g2.prod()**(1/5)"
   ]
  },
  {
   "cell_type": "markdown",
   "metadata": {},
   "source": [
    "## Fun facts\n",
    "\n",
    "Given two positive values $x_1$ and $x_2$, thier Harmonic mean is:\n",
    "\n",
    "$H = \\frac{2}{\\frac{1}{x_1} + \\frac{1}{x_2}} = \\frac{2 x_1 x_2}{x_1 + x_2}$\n",
    "\n",
    "thier Arithmetic mean is:\n",
    "\n",
    "$A = \\frac{x_1 + x_2}{2}$\n",
    "\n",
    "and thier Geometric mean is:\n",
    "\n",
    "$G = \\sqrt{x_1 x_2}$\n",
    "\n",
    "and we have:\n",
    "\n",
    "$H = \\frac{G^2}{A}$"
   ]
  },
  {
   "cell_type": "markdown",
   "metadata": {},
   "source": [
    "# Normalization vs Standarlization"
   ]
  },
  {
   "cell_type": "code",
   "execution_count": null,
   "metadata": {},
   "outputs": [],
   "source": []
  }
 ],
 "metadata": {
  "kernelspec": {
   "display_name": "Python [conda env:tgmle-dev]",
   "language": "python",
   "name": "conda-env-tgmle-dev-py"
  },
  "language_info": {
   "codemirror_mode": {
    "name": "ipython",
    "version": 3
   },
   "file_extension": ".py",
   "mimetype": "text/x-python",
   "name": "python",
   "nbconvert_exporter": "python",
   "pygments_lexer": "ipython3",
   "version": "3.6.10"
  }
 },
 "nbformat": 4,
 "nbformat_minor": 4
}
