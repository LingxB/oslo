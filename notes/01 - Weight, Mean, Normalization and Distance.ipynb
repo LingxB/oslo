{
 "cells": [
  {
   "cell_type": "markdown",
   "metadata": {},
   "source": [
    "# Weights, Mean and Normalization"
   ]
  },
  {
   "cell_type": "code",
   "execution_count": 38,
   "metadata": {},
   "outputs": [],
   "source": [
    "import numpy as np\n",
    "np.random.seed(1)"
   ]
  },
  {
   "cell_type": "markdown",
   "metadata": {},
   "source": [
    "# Weights\n",
    "\n",
    "Weight is a positive scalar value, (i.e. a single real number). The word *scalar* is used is to emphasize that it will be used to multiply a *vector* (to produce a new vector). \n",
    "\n",
    "Often a series of weights $w_i$ (with $i=1 \\ldots n$) is *normalized*, that is, for all $i$, $0 \\leq w_i \\leq 1$ and $\\sum w_i = 1$.\n",
    "\n",
    "\n",
    "## Applying Weights\n",
    "\n",
    "### Weighted Sum \n",
    "\n",
    "### $\\sum w_i x_i$\n",
    "\n",
    "### Weighted Average\n",
    "\n",
    "### $\\overline{x} = \\frac{\\sum w_i x_i}{\\sum w_i}$\n",
    "\n",
    "\n",
    "## Normalizing weights\n",
    "\n",
    "### $w_i = \\frac{w_i}{\\sum w_i}$\n",
    "\n",
    "### $w_i = \\frac{w_i}{\\sum w_i} x$ \n",
    "(**Normalize weights to be sum of $x$**. If you can sum to 1, you can sum to anything.)\n",
    "\n",
    "Q: What if $w$ has nagative? e.g. $w = [0.6, 100, 12, -2, 3456]$"
   ]
  },
  {
   "cell_type": "code",
   "execution_count": 40,
   "metadata": {},
   "outputs": [],
   "source": [
    "def normalize(w: np.ndarray):\n",
    "    \"\"\"Normalize w to be 0 <= w <= 1 and sum(w) = 1.\"\"\"\n",
    "    assert w.ndim == 1\n",
    "    w = w - w.min() + 1 # Remove negative before ?\n",
    "    return w / w.sum()"
   ]
  },
  {
   "cell_type": "code",
   "execution_count": 49,
   "metadata": {},
   "outputs": [
    {
     "data": {
      "text/plain": [
       "array([  0.6, 100. ,  12. ,  -2. ,  34. ])"
      ]
     },
     "execution_count": 49,
     "metadata": {},
     "output_type": "execute_result"
    }
   ],
   "source": [
    "x = np.array([0.6, 100, 12, -2, 34])\n",
    "x"
   ]
  },
  {
   "cell_type": "code",
   "execution_count": 50,
   "metadata": {},
   "outputs": [
    {
     "data": {
      "text/plain": [
       "array([0.02255639, 0.64536341, 0.09398496, 0.00626566, 0.23182957])"
      ]
     },
     "execution_count": 50,
     "metadata": {},
     "output_type": "execute_result"
    }
   ],
   "source": [
    "normalize(x)"
   ]
  },
  {
   "cell_type": "code",
   "execution_count": 51,
   "metadata": {},
   "outputs": [
    {
     "data": {
      "text/plain": [
       "1.0"
      ]
     },
     "execution_count": 51,
     "metadata": {},
     "output_type": "execute_result"
    }
   ],
   "source": [
    "normalize(x).sum()"
   ]
  },
  {
   "cell_type": "code",
   "execution_count": 55,
   "metadata": {},
   "outputs": [
    {
     "data": {
      "text/plain": [
       "array([0.2, 0.2, 0.2, 0.2, 0.2])"
      ]
     },
     "execution_count": 55,
     "metadata": {},
     "output_type": "execute_result"
    }
   ],
   "source": [
    "x = np.array([2, 2, 2, 2, 2])\n",
    "normalize(x)"
   ]
  },
  {
   "cell_type": "code",
   "execution_count": 53,
   "metadata": {},
   "outputs": [
    {
     "data": {
      "text/plain": [
       "array([0.2 , 0.28, 0.36, 0.08, 0.08])"
      ]
     },
     "execution_count": 53,
     "metadata": {},
     "output_type": "execute_result"
    }
   ],
   "source": [
    "x = np.array([2, 3, 4, 0.5, 0.5])\n",
    "normalize(x)"
   ]
  },
  {
   "cell_type": "code",
   "execution_count": 54,
   "metadata": {},
   "outputs": [
    {
     "data": {
      "text/plain": [
       "array([0.2 , 0.3 , 0.4 , 0.05, 0.05])"
      ]
     },
     "execution_count": 54,
     "metadata": {},
     "output_type": "execute_result"
    }
   ],
   "source": [
    "x / x.sum()"
   ]
  },
  {
   "cell_type": "markdown",
   "metadata": {},
   "source": [
    "**So the conclusion is**:\n",
    "\n",
    "- $\\sum w_i$ can not be 0, e.g. when $w = [-1, 1]$, \n",
    "- Negative values are not accepted as weights"
   ]
  },
  {
   "cell_type": "markdown",
   "metadata": {},
   "source": [
    "## Computing the optimal weight $\\alpha$ and $1 - \\alpha$\n",
    "\n",
    "\n",
    "Given three $n$ dimensional vectors $f$, $g$ and $d$, compute the optimal weight $\\alpha$ that miminize the root mean square error between \n",
    "$\\alpha f + (1 - \\alpha) g$ and $d$. i.e. $f$ and $g$ are both forecasts of $n$ time steps where the ture demand is $d$, we need to find the optimal mix of two forecasts that fits the demand.\n",
    "\n",
    "### Solving the problem analytically\n",
    "\n",
    "$rmse(\\alpha) = \\sqrt{\\frac{1}{n} \\sum{[\\alpha f_n + (1 - \\alpha) g_n - d_n]^2}}$\n",
    "\n",
    "Since $rmse(\\alpha)$ is a quadratic function which has a global minimum, we can compute $\\alpha$ by setting it's derivative to 0. \n",
    "\n",
    "Rearange the function to be:\n",
    "\n",
    "$r(\\alpha) = [{\\sum \\frac{1}{n} (\\alpha f_n + (1 - \\alpha) g_n - d_n)^2}]^\\frac{1}{2}$\n",
    "\n",
    "let $p(h) = h^\\frac{1}{2}$, $h(\\alpha) = \\sum \\frac{1}{n} (\\alpha f_n + (1 - \\alpha) g_n - d_n)^2$\n",
    "\n",
    "$r'(\\alpha) = \\frac{dp}{dh} \\frac{dh}{d\\alpha}$, where\n",
    "\n",
    "$\\frac{dp}{dh} = \\frac{1}{2 \\sqrt{h}}$\n",
    "\n",
    "$\\frac{dh}{d\\alpha} = \\sum \\frac{d}{d\\alpha} [\\frac{1}{n} (\\alpha f_n + (1 - \\alpha) g_n - d_n)^2]$\n",
    "\n",
    "$\\frac{dh}{d\\alpha} = \\sum \\frac{1}{n} 2(\\alpha f_n + (1 - \\alpha) g_n - d_n)(f_n - g_n)$\n",
    "\n",
    "$\\frac{dh}{d\\alpha} = \\frac{2}{n} \\sum{(f_n - g_n)^2\\alpha + (f_n - g_n)(g_n - d_n)}$\n",
    "\n",
    "Thus:\n",
    "\n",
    "$r'(\\alpha) = \\frac{1}{n \\sqrt{h}} \\sum{(f_n - g_n)^2\\alpha + (f_n - g_n)(g_n - d_n)}$\n",
    "\n",
    "When $r'(\\alpha) = 0$, it can only be when the numerator is $0$. Thus:\n",
    "\n",
    "$\\sum{(f_n - g_n)^2\\alpha + (f_n - g_n)(g_n - d_n)} = 0$\n",
    "\n",
    "$\\sum{(f_n - g_n)^2 \\alpha} = - \\sum{(f_n - g_n)(g_n - d_n)}$\n",
    "\n",
    "finally,\n",
    "\n",
    "### $\\alpha = - \\frac{\\sum{(f_n - g_n)(g_n - d_n)}}{\\sum{(f_n - g_n)^2}}$"
   ]
  },
  {
   "cell_type": "code",
   "execution_count": 2,
   "metadata": {},
   "outputs": [
    {
     "name": "stdout",
     "output_type": "stream",
     "text": [
      "d: [37 12 72  9 75  5 79 64 16  1]\n",
      "f: [11.1  3.6 21.6  2.7 22.5  1.5 23.7 19.2  4.8  0.3]\n",
      "g: [ 48.1  15.6  93.6  11.7  97.5   6.5 102.7  83.2  20.8   1.3]\n"
     ]
    }
   ],
   "source": [
    "d = np.random.randint(low=0, high=100, size=(10,))\n",
    "f = d - 0.7 * d\n",
    "g = (d - 0.3 * f) / 0.7 # set alpha to 0.3\n",
    "\n",
    "print(f'd: {d}')\n",
    "print(f'f: {f}')\n",
    "print(f'g: {g}')"
   ]
  },
  {
   "cell_type": "code",
   "execution_count": 14,
   "metadata": {},
   "outputs": [],
   "source": [
    "def compute_alpha(f: np.ndarray, g: np.ndarray, d: np.ndarray):\n",
    "    numerator = -1 * ((f - g) * (g - d)).sum()\n",
    "    denominator = ((f - g)**2).sum()\n",
    "    return numerator / denominator"
   ]
  },
  {
   "cell_type": "code",
   "execution_count": 15,
   "metadata": {},
   "outputs": [
    {
     "data": {
      "text/plain": [
       "0.3"
      ]
     },
     "execution_count": 15,
     "metadata": {},
     "output_type": "execute_result"
    }
   ],
   "source": [
    "compute_alpha(f, g, d)"
   ]
  },
  {
   "cell_type": "markdown",
   "metadata": {},
   "source": [
    "# Mean\n",
    "\n",
    "\n",
    "## Arithmetic Mean\n",
    "\n",
    "### $\\overline{x} = \\frac{\\sum\\limits_{i}^{n} x_i}{n}$\n",
    "\n",
    "## Harmonic mean\n",
    "\n",
    "### $H = \\frac{n}{\\frac{1}{x_1} + \\frac{1}{x_2} + ... + \\frac{1}{x_n}}= \\frac{n}{\\sum\\limits_{i}^{n} \\frac{1}{x_i}}$\n",
    "\n",
    "Q: When to use harmonic mean?\n",
    "\n",
    "In short, harmonic mean is used when you'd like to mix some numbers computed on differnt criteria. In ML, *F1* score is the harmonic mean of *precision* and *recall*. As they are computed differently, to mix them as one single value to reflect the performance of a classifier, you want the *F1* score to be high when both of them are high.\n",
    "\n",
    "Check this [post](https://stackoverflow.com/questions/26355942/why-is-the-f-measure-a-harmonic-mean-and-not-an-arithmetic-mean-of-the-precision) for more details.\n"
   ]
  },
  {
   "cell_type": "code",
   "execution_count": 63,
   "metadata": {},
   "outputs": [],
   "source": [
    "precision = 0.9\n",
    "recall = 0.1"
   ]
  },
  {
   "cell_type": "code",
   "execution_count": 64,
   "metadata": {},
   "outputs": [
    {
     "data": {
      "text/plain": [
       "0.5"
      ]
     },
     "execution_count": 64,
     "metadata": {},
     "output_type": "execute_result"
    }
   ],
   "source": [
    "# arithmetic mean\n",
    "(precision + recall) / 2"
   ]
  },
  {
   "cell_type": "code",
   "execution_count": 65,
   "metadata": {},
   "outputs": [
    {
     "data": {
      "text/plain": [
       "0.18"
      ]
     },
     "execution_count": 65,
     "metadata": {},
     "output_type": "execute_result"
    }
   ],
   "source": [
    "# harmonic mean\n",
    "2 / (1/precision + 1/recall)"
   ]
  },
  {
   "cell_type": "markdown",
   "metadata": {},
   "source": [
    "## Geometric mean\n",
    "\n",
    "### $G = (\\prod\\limits_{i}^{n} x_i)^{-n} = ^n\\sqrt{x_1 x_2 ... x_n}$\n",
    "\n",
    "Q: When to use geometric mean?\n",
    "\n",
    "When mixing numbers which have big difference in terms of scale and you don't want to loose information on smaller numbers. "
   ]
  },
  {
   "cell_type": "code",
   "execution_count": 101,
   "metadata": {},
   "outputs": [],
   "source": [
    "g1 = np.array([10, 200, 2430, 3350, 10000]).astype('float32')\n",
    "g2 = np.array([1, 20, 243, 335, 10000000]).astype('float32')"
   ]
  },
  {
   "cell_type": "code",
   "execution_count": 102,
   "metadata": {},
   "outputs": [
    {
     "data": {
      "text/plain": [
       "3198.0"
      ]
     },
     "execution_count": 102,
     "metadata": {},
     "output_type": "execute_result"
    }
   ],
   "source": [
    "g1.mean()"
   ]
  },
  {
   "cell_type": "code",
   "execution_count": 103,
   "metadata": {},
   "outputs": [
    {
     "data": {
      "text/plain": [
       "2000119.8"
      ]
     },
     "execution_count": 103,
     "metadata": {},
     "output_type": "execute_result"
    }
   ],
   "source": [
    "g2.mean()"
   ]
  },
  {
   "cell_type": "code",
   "execution_count": 104,
   "metadata": {},
   "outputs": [
    {
     "data": {
      "text/plain": [
       "695.5625857987039"
      ]
     },
     "execution_count": 104,
     "metadata": {},
     "output_type": "execute_result"
    }
   ],
   "source": [
    "g1.prod()**(1/5)"
   ]
  },
  {
   "cell_type": "code",
   "execution_count": 105,
   "metadata": {},
   "outputs": [
    {
     "data": {
      "text/plain": [
       "438.87032657778997"
      ]
     },
     "execution_count": 105,
     "metadata": {},
     "output_type": "execute_result"
    }
   ],
   "source": [
    "g2.prod()**(1/5)"
   ]
  },
  {
   "cell_type": "markdown",
   "metadata": {},
   "source": [
    "## Fun facts\n",
    "\n",
    "Given two positive values $x_1$ and $x_2$, thier Harmonic mean is:\n",
    "\n",
    "$H = \\frac{2}{\\frac{1}{x_1} + \\frac{1}{x_2}} = \\frac{2 x_1 x_2}{x_1 + x_2}$\n",
    "\n",
    "thier Arithmetic mean is:\n",
    "\n",
    "$A = \\frac{x_1 + x_2}{2}$\n",
    "\n",
    "and thier Geometric mean is:\n",
    "\n",
    "$G = \\sqrt{x_1 x_2}$\n",
    "\n",
    "and we have:\n",
    "\n",
    "$H = \\frac{G^2}{A}$"
   ]
  },
  {
   "cell_type": "markdown",
   "metadata": {},
   "source": [
    "# Normalization"
   ]
  },
  {
   "cell_type": "markdown",
   "metadata": {},
   "source": [
    "## Min Max Normalization (Feature Scaling)\n",
    "\n",
    "Rescale inputs to be between $[0, 1]$\n",
    "\n",
    "\n",
    "### $x' = \\frac{x - min(x)}{max(x) - min(x)}$\n",
    "\n",
    "Reverse scaling:\n",
    "\n",
    "### $x = a + \\frac{(x' - min(x'))(b - a)}{max(x') - min(x')}$ \n",
    "\n",
    "where $a = min(x)$, $b = max(x)$\n"
   ]
  },
  {
   "cell_type": "code",
   "execution_count": 18,
   "metadata": {},
   "outputs": [],
   "source": [
    "def min_max_scaling(x: np.ndarray):\n",
    "    a = x.min()\n",
    "    b = x.max()\n",
    "    return (x - a) / (b - a), a, b\n",
    "\n",
    "def re_scale(x: np.ndarray, a, b):\n",
    "    return a + ((x - x.min()) * (b - a)) / (x.max() - x.min())"
   ]
  },
  {
   "cell_type": "code",
   "execution_count": 9,
   "metadata": {},
   "outputs": [
    {
     "data": {
      "text/plain": [
       "array([-0.3224172 , -0.38405435,  1.13376944, -1.09989127, -0.17242821,\n",
       "       -0.87785842,  0.04221375,  0.58281521, -1.10061918,  1.14472371])"
      ]
     },
     "execution_count": 9,
     "metadata": {},
     "output_type": "execute_result"
    }
   ],
   "source": [
    "x = np.random.randn(10)\n",
    "x"
   ]
  },
  {
   "cell_type": "code",
   "execution_count": 12,
   "metadata": {},
   "outputs": [
    {
     "data": {
      "text/plain": [
       "array([0.35, 0.32, 1.  , 0.  , 0.41, 0.1 , 0.51, 0.75, 0.  , 1.  ])"
      ]
     },
     "execution_count": 12,
     "metadata": {},
     "output_type": "execute_result"
    }
   ],
   "source": [
    "_x, a, b = min_max_scaling(x)\n",
    "_x.round(2)"
   ]
  },
  {
   "cell_type": "code",
   "execution_count": 19,
   "metadata": {},
   "outputs": [
    {
     "data": {
      "text/plain": [
       "array([-0.3224172 , -0.38405435,  1.13376944, -1.09989127, -0.17242821,\n",
       "       -0.87785842,  0.04221375,  0.58281521, -1.10061918,  1.14472371])"
      ]
     },
     "execution_count": 19,
     "metadata": {},
     "output_type": "execute_result"
    }
   ],
   "source": [
    "re_scale(_x, a, b)"
   ]
  },
  {
   "cell_type": "markdown",
   "metadata": {},
   "source": [
    "## Standarlization\n",
    "\n",
    "Normalize inputs to have **0 mean** and **1 standard deviation**. Do not change scale of the inputs.\n",
    "\n",
    "Q: When do we need to use standardlization?\n",
    "\n",
    "### $x' = \\frac{x - \\overline{x}}{\\sigma}$\n",
    "\n",
    "### $x' = \\frac{x - \\overline{x}}{max(x) - min(x)}$\n",
    "(**Mean Normalization**)"
   ]
  },
  {
   "cell_type": "code",
   "execution_count": 20,
   "metadata": {},
   "outputs": [],
   "source": [
    "def standarlize(x: np.ndarray):\n",
    "    return (x - np.mean(x)) / np.std(x)"
   ]
  },
  {
   "cell_type": "code",
   "execution_count": 32,
   "metadata": {},
   "outputs": [
    {
     "data": {
      "text/plain": [
       "array([ 1.46210794, -2.06014071, -0.3224172 , -0.38405435,  1.13376944,\n",
       "       -1.09989127, -0.17242821, -0.87785842,  0.04221375,  0.58281521])"
      ]
     },
     "execution_count": 32,
     "metadata": {},
     "output_type": "execute_result"
    }
   ],
   "source": [
    "x = np.random.randn(10)\n",
    "x"
   ]
  },
  {
   "cell_type": "code",
   "execution_count": 33,
   "metadata": {},
   "outputs": [
    {
     "data": {
      "text/plain": [
       "-0.16958838211535887"
      ]
     },
     "execution_count": 33,
     "metadata": {},
     "output_type": "execute_result"
    }
   ],
   "source": [
    "np.mean(x)"
   ]
  },
  {
   "cell_type": "code",
   "execution_count": 34,
   "metadata": {},
   "outputs": [
    {
     "data": {
      "text/plain": [
       "0.9991398390871093"
      ]
     },
     "execution_count": 34,
     "metadata": {},
     "output_type": "execute_result"
    }
   ],
   "source": [
    "np.std(x)"
   ]
  },
  {
   "cell_type": "code",
   "execution_count": 35,
   "metadata": {},
   "outputs": [
    {
     "data": {
      "text/plain": [
       "array([ 1.63310105, -1.89217991, -0.15296039, -0.21465061,  1.30447989,\n",
       "       -0.93110378, -0.00284227, -0.70887979,  0.21198447,  0.75305134])"
      ]
     },
     "execution_count": 35,
     "metadata": {},
     "output_type": "execute_result"
    }
   ],
   "source": [
    "_x = standarlize(x)\n",
    "_x"
   ]
  },
  {
   "cell_type": "code",
   "execution_count": 36,
   "metadata": {},
   "outputs": [
    {
     "data": {
      "text/plain": [
       "-0.0"
      ]
     },
     "execution_count": 36,
     "metadata": {},
     "output_type": "execute_result"
    }
   ],
   "source": [
    "np.mean(_x).round(2)"
   ]
  },
  {
   "cell_type": "code",
   "execution_count": 37,
   "metadata": {},
   "outputs": [
    {
     "data": {
      "text/plain": [
       "1.0"
      ]
     },
     "execution_count": 37,
     "metadata": {},
     "output_type": "execute_result"
    }
   ],
   "source": [
    "np.std(_x)"
   ]
  }
 ],
 "metadata": {
  "kernelspec": {
   "display_name": "Python [conda env:tgmle-dev]",
   "language": "python",
   "name": "conda-env-tgmle-dev-py"
  },
  "language_info": {
   "codemirror_mode": {
    "name": "ipython",
    "version": 3
   },
   "file_extension": ".py",
   "mimetype": "text/x-python",
   "name": "python",
   "nbconvert_exporter": "python",
   "pygments_lexer": "ipython3",
   "version": "3.6.10"
  }
 },
 "nbformat": 4,
 "nbformat_minor": 4
}
